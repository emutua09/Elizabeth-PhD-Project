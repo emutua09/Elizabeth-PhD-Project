{
  "nbformat": 4,
  "nbformat_minor": 0,
  "metadata": {
    "colab": {
      "provenance": [],
      "authorship_tag": "ABX9TyPGPSzeCOG3+A5OazqypWLa",
      "include_colab_link": true
    },
    "kernelspec": {
      "name": "python3",
      "display_name": "Python 3"
    },
    "language_info": {
      "name": "python"
    }
  },
  "cells": [
    {
      "cell_type": "markdown",
      "metadata": {
        "id": "view-in-github",
        "colab_type": "text"
      },
      "source": [
        "<a href=\"https://colab.research.google.com/github/emutua09/Elizabeth-PhD-Project/blob/main/Elizabeth_Mutua_PhD_ROP_Stage_III_Diagnosis.ipynb\" target=\"_parent\"><img src=\"https://colab.research.google.com/assets/colab-badge.svg\" alt=\"Open In Colab\"/></a>"
      ]
    },
    {
      "cell_type": "code",
      "execution_count": 6,
      "metadata": {
        "colab": {
          "base_uri": "https://localhost:8080/"
        },
        "id": "k9gMVtOpKxs_",
        "outputId": "9c66a3f5-132e-4cfd-fb1d-9cfd2b2e38cf"
      },
      "outputs": [
        {
          "output_type": "stream",
          "name": "stdout",
          "text": [
            "Retinopathy of Prematurity\n"
          ]
        }
      ],
      "source": [
        "print('Retinopathy of Prematurity')"
      ]
    },
    {
      "cell_type": "code",
      "source": [],
      "metadata": {
        "id": "7umaL1J2MM4l"
      },
      "execution_count": null,
      "outputs": []
    }
  ]
}